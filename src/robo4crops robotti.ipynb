{
 "cells": [
  {
   "cell_type": "code",
   "execution_count": 4,
   "metadata": {},
   "outputs": [
    {
     "ename": "Exception",
     "evalue": "Failed to connect to ROS",
     "output_type": "error",
     "traceback": [
      "\u001b[0;31m---------------------------------------------------------------------------\u001b[0m",
      "\u001b[0;31mException\u001b[0m                                 Traceback (most recent call last)",
      "\u001b[0;32m/tmp/nix-shell.o8RCqa/ipykernel_1890339/1567210419.py\u001b[0m in \u001b[0;36m<module>\u001b[0;34m\u001b[0m\n\u001b[1;32m      2\u001b[0m \u001b[0;34m\u001b[0m\u001b[0m\n\u001b[1;32m      3\u001b[0m \u001b[0mclient\u001b[0m \u001b[0;34m=\u001b[0m \u001b[0mroslibpy\u001b[0m\u001b[0;34m.\u001b[0m\u001b[0mRos\u001b[0m\u001b[0;34m(\u001b[0m\u001b[0mhost\u001b[0m\u001b[0;34m=\u001b[0m\u001b[0;34m'localhost'\u001b[0m\u001b[0;34m,\u001b[0m \u001b[0mport\u001b[0m\u001b[0;34m=\u001b[0m\u001b[0;36m9090\u001b[0m\u001b[0;34m)\u001b[0m\u001b[0;34m\u001b[0m\u001b[0;34m\u001b[0m\u001b[0m\n\u001b[0;32m----> 4\u001b[0;31m \u001b[0mclient\u001b[0m\u001b[0;34m.\u001b[0m\u001b[0mrun\u001b[0m\u001b[0;34m(\u001b[0m\u001b[0;34m)\u001b[0m\u001b[0;34m\u001b[0m\u001b[0;34m\u001b[0m\u001b[0m\n\u001b[0m\u001b[1;32m      5\u001b[0m \u001b[0;34m\u001b[0m\u001b[0m\n\u001b[1;32m      6\u001b[0m \u001b[0mprint\u001b[0m\u001b[0;34m(\u001b[0m\u001b[0;34m'Is ROS connected?'\u001b[0m\u001b[0;34m,\u001b[0m \u001b[0mclient\u001b[0m\u001b[0;34m.\u001b[0m\u001b[0mis_connected\u001b[0m\u001b[0;34m)\u001b[0m\u001b[0;34m\u001b[0m\u001b[0;34m\u001b[0m\u001b[0m\n",
      "\u001b[0;32m/env/conda/envs/ros_env/lib/python3.8/site-packages/roslibpy/ros.py\u001b[0m in \u001b[0;36mrun\u001b[0;34m(self, timeout)\u001b[0m\n\u001b[1;32m     89\u001b[0m \u001b[0;34m\u001b[0m\u001b[0m\n\u001b[1;32m     90\u001b[0m         \u001b[0;32mif\u001b[0m \u001b[0;32mnot\u001b[0m \u001b[0mwait_connect\u001b[0m\u001b[0;34m.\u001b[0m\u001b[0mwait\u001b[0m\u001b[0;34m(\u001b[0m\u001b[0mtimeout\u001b[0m\u001b[0;34m)\u001b[0m\u001b[0;34m:\u001b[0m\u001b[0;34m\u001b[0m\u001b[0;34m\u001b[0m\u001b[0m\n\u001b[0;32m---> 91\u001b[0;31m             \u001b[0;32mraise\u001b[0m \u001b[0mException\u001b[0m\u001b[0;34m(\u001b[0m\u001b[0;34m'Failed to connect to ROS'\u001b[0m\u001b[0;34m)\u001b[0m\u001b[0;34m\u001b[0m\u001b[0;34m\u001b[0m\u001b[0m\n\u001b[0m\u001b[1;32m     92\u001b[0m \u001b[0;34m\u001b[0m\u001b[0m\n\u001b[1;32m     93\u001b[0m     \u001b[0;32mdef\u001b[0m \u001b[0mrun_forever\u001b[0m\u001b[0;34m(\u001b[0m\u001b[0mself\u001b[0m\u001b[0;34m)\u001b[0m\u001b[0;34m:\u001b[0m\u001b[0;34m\u001b[0m\u001b[0;34m\u001b[0m\u001b[0m\n",
      "\u001b[0;31mException\u001b[0m: Failed to connect to ROS"
     ]
    }
   ],
   "source": [
    "import roslibpy\n",
    "\n",
    "client = roslibpy.Ros(host='localhost', port=9090)\n",
    "client.run()\n",
    "\n",
    "print('Is ROS connected?', client.is_connected)"
   ]
  },
  {
   "cell_type": "code",
   "execution_count": 2,
   "metadata": {},
   "outputs": [],
   "source": [
    "client.get_param(\"/meta\")"
   ]
  },
  {
   "cell_type": "code",
   "execution_count": 3,
   "metadata": {},
   "outputs": [
    {
     "data": {
      "text/plain": [
       "['/rosout_agg',\n",
       " '/rosout',\n",
       " '/client_count',\n",
       " '/connected_clients',\n",
       " '/camera/realsense2_camera_manager/bond',\n",
       " '/tf_static',\n",
       " '/tf',\n",
       " '/camera/l500_depth_sensor/parameter_descriptions',\n",
       " '/camera/l500_depth_sensor/parameter_updates',\n",
       " '/camera/rgb_camera/parameter_descriptions',\n",
       " '/camera/rgb_camera/parameter_updates',\n",
       " '/camera/motion_module/parameter_descriptions',\n",
       " '/camera/motion_module/parameter_updates',\n",
       " '/diagnostics',\n",
       " '/camera/depth/image_rect_raw',\n",
       " '/camera/depth/camera_info',\n",
       " '/camera/color/image_raw',\n",
       " '/camera/color/camera_info',\n",
       " '/camera/extrinsics/depth_to_color']"
      ]
     },
     "execution_count": 3,
     "metadata": {},
     "output_type": "execute_result"
    }
   ],
   "source": [
    "client.get_topics()"
   ]
  },
  {
   "cell_type": "code",
   "execution_count": 4,
   "metadata": {},
   "outputs": [
    {
     "name": "stdout",
     "output_type": "stream",
     "text": [
      "{'status': False, 'bearing': 90.41189084976588, 'vehicle_id': '963530e6-1704-11e8-88ef-0af15b92ec1c', 'recTime': 1637065060, 'userid': '', 'longitude': 10.152572179776799, 'mode': 1, 'latitude': 56.200810099286876, 'current_seg': ''}\n",
      "{'status': False, 'bearing': 90.42409593843207, 'vehicle_id': '963530e6-1704-11e8-88ef-0af15b92ec1c', 'recTime': 1637065061, 'userid': '', 'longitude': 10.152572165404093, 'mode': 1, 'latitude': 56.200810107011684, 'current_seg': ''}\n",
      "{'status': False, 'bearing': 90.42291559897048, 'vehicle_id': '963530e6-1704-11e8-88ef-0af15b92ec1c', 'recTime': 1637065062, 'userid': '', 'longitude': 10.152572179781293, 'mode': 1, 'latitude': 56.20081011586746, 'current_seg': ''}\n",
      "{'status': False, 'bearing': 90.42281512244637, 'vehicle_id': '963530e6-1704-11e8-88ef-0af15b92ec1c', 'recTime': 1637065063, 'userid': '', 'longitude': 10.1525721796004, 'mode': 1, 'latitude': 56.200810115835665, 'current_seg': ''}\n",
      "{'status': False, 'bearing': 90.42279085056033, 'vehicle_id': '963530e6-1704-11e8-88ef-0af15b92ec1c', 'recTime': 1637065064, 'userid': '', 'longitude': 10.152572179309349, 'mode': 1, 'latitude': 56.200810115809695, 'current_seg': ''}\n",
      "{'status': False, 'bearing': 90.42265466151271, 'vehicle_id': '963530e6-1704-11e8-88ef-0af15b92ec1c', 'recTime': 1637065066, 'userid': '', 'longitude': 10.152572179129997, 'mode': 1, 'latitude': 56.20081011581757, 'current_seg': ''}\n",
      "{'status': False, 'bearing': 90.42249855358516, 'vehicle_id': '963530e6-1704-11e8-88ef-0af15b92ec1c', 'recTime': 1637065067, 'userid': '', 'longitude': 10.152572178993733, 'mode': 1, 'latitude': 56.200810115820204, 'current_seg': ''}\n",
      "{'status': False, 'bearing': 90.43119359464833, 'vehicle_id': '963530e6-1704-11e8-88ef-0af15b92ec1c', 'recTime': 1637065068, 'userid': '', 'longitude': 10.152572179098701, 'mode': 1, 'latitude': 56.2008101157173, 'current_seg': ''}\n"
     ]
    }
   ],
   "source": [
    "listener = roslibpy.Topic(client, '/communication_if/mqtt/location', 'mqtt_msgs/MQTTLocation')\n",
    "listener.subscribe(lambda message: print(message))"
   ]
  },
  {
   "cell_type": "code",
   "execution_count": 5,
   "metadata": {},
   "outputs": [],
   "source": [
    "listener.unsubscribe()\n"
   ]
  },
  {
   "cell_type": "code",
   "execution_count": 6,
   "metadata": {},
   "outputs": [
    {
     "data": {
      "text/plain": [
       "{}"
      ]
     },
     "execution_count": 6,
     "metadata": {},
     "output_type": "execute_result"
    }
   ],
   "source": [
    "client.get_services()\n",
    "service = roslibpy.Service(client, '/app/robotti_state_machine/change_mode', 'comm_srvs/ChangeModeService')\n",
    "request = roslibpy.ServiceRequest({\"mode\": 2})\n",
    "\n",
    "service.call(request)\n",
    "\n"
   ]
  },
  {
   "cell_type": "code",
   "execution_count": 7,
   "metadata": {},
   "outputs": [
    {
     "ename": "KeyboardInterrupt",
     "evalue": "",
     "output_type": "error",
     "traceback": [
      "\u001b[0;31m---------------------------------------------------------------------------\u001b[0m",
      "\u001b[0;31mKeyboardInterrupt\u001b[0m                         Traceback (most recent call last)",
      "\u001b[0;32m<ipython-input-7-af590b7eeac0>\u001b[0m in \u001b[0;36m<module>\u001b[0;34m\u001b[0m\n\u001b[1;32m      8\u001b[0m           }\n\u001b[1;32m      9\u001b[0m     \u001b[0mtalker\u001b[0m\u001b[0;34m.\u001b[0m\u001b[0mpublish\u001b[0m\u001b[0;34m(\u001b[0m\u001b[0mroslibpy\u001b[0m\u001b[0;34m.\u001b[0m\u001b[0mMessage\u001b[0m\u001b[0;34m(\u001b[0m\u001b[0mmsg\u001b[0m\u001b[0;34m)\u001b[0m\u001b[0;34m)\u001b[0m\u001b[0;34m\u001b[0m\u001b[0;34m\u001b[0m\u001b[0m\n\u001b[0;32m---> 10\u001b[0;31m     \u001b[0mtime\u001b[0m\u001b[0;34m.\u001b[0m\u001b[0msleep\u001b[0m\u001b[0;34m(\u001b[0m\u001b[0;36m0.1\u001b[0m\u001b[0;34m)\u001b[0m\u001b[0;34m\u001b[0m\u001b[0;34m\u001b[0m\u001b[0m\n\u001b[0m\u001b[1;32m     11\u001b[0m \u001b[0;34m\u001b[0m\u001b[0m\n",
      "\u001b[0;31mKeyboardInterrupt\u001b[0m: "
     ]
    }
   ],
   "source": [
    "import time\n",
    "talker = roslibpy.Topic(client, '/navigation/navigation_executor/cmd/ackermann', 'vehicle_msgs/AckermannModeStamped')\n",
    "while client.is_connected:\n",
    "    msg = {'header':{\"seq\":0,\"stamp\":client.get_time(),\"frame_id\":\"\"},\n",
    "           \"mode\":{\"mode\": 2},\n",
    "          \"drive\":{\"steering_angle\":0,\"steering_angle_velocity\":0,\"speed\":1,\"acceleration\":0,\"jerk\":0},\n",
    "           \"drive_mode\":0\n",
    "          }\n",
    "    talker.publish(roslibpy.Message(msg))\n",
    "    time.sleep(0.1)\n",
    "    "
   ]
  },
  {
   "cell_type": "code",
   "execution_count": null,
   "metadata": {},
   "outputs": [],
   "source": []
  },
  {
   "cell_type": "code",
   "execution_count": null,
   "metadata": {},
   "outputs": [],
   "source": []
  }
 ],
 "metadata": {
  "kernelspec": {
   "display_name": "Python 3",
   "language": "python",
   "name": "python3"
  },
  "language_info": {
   "codemirror_mode": {
    "name": "ipython",
    "version": 3
   },
   "file_extension": ".py",
   "mimetype": "text/x-python",
   "name": "python",
   "nbconvert_exporter": "python",
   "pygments_lexer": "ipython3",
   "version": "3.8.12"
  }
 },
 "nbformat": 4,
 "nbformat_minor": 4
}
